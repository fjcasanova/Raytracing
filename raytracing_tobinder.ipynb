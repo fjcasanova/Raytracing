{
 "cells": [
  {
   "cell_type": "markdown",
   "metadata": {},
   "source": [
    "<center>\n",
    "\n",
    "#  Raytracing </center>\n",
    "\n",
    "<em> \" Nous ne prétendons pas à réussir à représenter l'objet exactement tel qu'il apparaîtrait dans la réalité, avec sa texture, son ombre etc. Nous espérons seulement obtenir une image suffisamment proche de l'objet réel pour donner une certaine impression de réalisme.\" </em>  --Bui Tuong Phong\n",
    "<center>\n",
    "<img src= \"random5.jpg\" style = 'width: 1200px' /></center>\n",
    "\n",
    "# Préambule\n",
    "\n",
    "Le but de ce document est de présenter au lecteur les rudiments d'une technique de rendu graphique en trois dimensions appelée raytracing afin qu'il soit lui-même capable d'obtenir des images modélisant des formes élémentaires (ici principalement des sphères) comme celle ci-dessus.\n",
    "\n",
    "Pour cela les pré-requis mathématiques nécessaires sont la résolution d'équations du second degré, le produit scalaire dans l'espace ainsi qu'un minimum de motivation. Ces dernières notions interviendront pour appuyer des raisonnements qualitatifs portant sur les trajectoires que peut prendre la lumière depuis sa source pour atteindre un observateur donné.\n",
    "\n",
    "Les diverses idées, réflexions, calculs ou relations introduites ici seront motivées et expliquées de manière détailles, en revanche les notions algorithmiques basiques de boucles, instructions conditionnelles, fonctions, etc$\\dots$ seront considérées comme déjà acquises par le lecteur.\n",
    "\n",
    "Nous commencerons ici par importer les différentes commandes dont nous auront besoin tout au long du notebook :"
   ]
  },
  {
   "cell_type": "code",
   "execution_count": 1,
   "metadata": {},
   "outputs": [],
   "source": [
    "from math import sqrt as racine\n",
    "import numpy as np\n",
    "from matplotlib.image import imsave\n",
    "import matplotlib.pyplot as plt\n",
    "from vecteur import *"
   ]
  },
  {
   "cell_type": "markdown",
   "metadata": {},
   "source": [
    "## I. Suivre la lumière\n",
    "\n",
    "Après diverses considérations physiques et simplifications (voir document pdf), on aboutit à la conclusion que tout se passe comme si l'on cherchait à suivre la lumière en partant de l'observateur pour remonter jusqu'à la source plutôt que de le faire dans l'autre sens. Les deux situations étant équivalentes d'après le principe du retour inverse de la lumière.\n",
    "\n",
    "Imaginons que l'image que l'on cherche à remplir corresponde directement au champ visuel de l'observateur, il suffit alors de vérifier pour chaque pixel de cette grille fictive si la droite qui le relie à l'observateur intersecte un objet de la scène, le cas échéant on attribue sa couleur au pixel avec une teinte claire ou foncée selon sa position par rapport à la principale source lumineuse.\n",
    "<center>\n",
    "<img src= \"schema_oeil_grille.png\" style = 'width: 800px; height:750' /></center>\n",
    "Notre modélisation peut alors se décomposer en deux étapes:\n",
    "\n",
    "1. Pour un pixel donné, déterminer si le rayon lumineux correspondant atteint un objet et le cas échéant lui attribuer sa couleur de base.\n",
    "2. Une fois la couleur du pixel déterminée, établir ensuite sa teinte selon la position du point de l'objet correspondant par rapport à la source lumineuse d'une manière qui reste à définir.\n",
    "\n",
    "Nous traiterons le premier point dans la partie **II** mais n'aborderons le second qu'en partie **III**.\n",
    "\n",
    "Récapitulons avant cela les paramètres sur lesquels nous avons la main:\n",
    "- La position de l'observateur que l'on définira comme étant l'origine du repère.\n",
    "- Le champ visuel de l'observateur qui est en fait lié à la taille de l'image finale obtenue et à la distance entre ce dernier et l'image fictive.\n",
    "- Les différents objets présents dans la scène que l'on veut représenter, définis par leurs positions, leurs formes ainsi que leurs couleurs ou autres caractéristiques.\n",
    "- La position et la couleur de la (ou des) source(s) de lumière.\n"
   ]
  },
  {
   "cell_type": "markdown",
   "metadata": {},
   "source": [
    "## II. Cadre, outils divers et résolution mathématique\n",
    "\n",
    "Comme annoncé, nous nous efforcerons dans cette seconde partie de déterminer la couleur à attribuer à chaque pixel. Pour cela, il sera nécessaire de poser le problème de manière plus précise, de le résoudre mathématiquement et enfin de présenter les divers outils informatiques qui nous permettront d'implémenter notre solution et d'obtenir une première image.\n",
    "\n",
    "### II.1) Des pixels dans l'espace\n",
    "\n",
    "L'enjeu est ici de déterminer une relation entre l'observateur et les pixels de la grille fictive.\n",
    "\n",
    "Dans toute la suite on assimilera l'observateur à un point $O$ situé à l'origine d'un repère orthonormé de l'espace représenté ci-dessous.\n",
    "\n",
    "On suppose également que l'observateur regarde dans la direction $\\left[Oz\\right)$, on placera ainsi notre image fictive à une distance $D>0$ en suivant cet axe de sorte que celle-ci soit incluse dans le plan $z=D$.\n",
    "\n",
    "Ainsi la longueur de l'image, sa largeur et la valeur de $D$ sont des paramètres qui pourront être ajustés selon le résultat que l'on cherche à produire.\n",
    "\n",
    "<center>\n",
    "<img src= \"schema_oeil_repere.png\" style = 'width: 800px; height:750' /></center>\n",
    "\n",
    "Sur une image numérique, les pixels sont repérés selon leur colonne, puis leur ligne, ainsi le pixel de coordonnées $(0;0)$ est celui se situant en haut à gauche de l'image. \n",
    "\n",
    "Plus généralement le pixel $(x;y)$ est à l'intersection entre la colonne $x$ et la colonne $y$. Il faudra donc prendre soin de distinguer les coordonnées des pixels au sein même de l'image numérique de celles de leur position fictive dans l'espace et d'établir une correspondance entre les deux.\n",
    "\n",
    "<center>\n",
    "<img src= \"exemple_pixels_coordonnees.png\" style = 'width: 800px; height:750' /></center>\n",
    "Pour passer de l'un à l'autre il suffit ainsi d'effectuer une translation de vecteur $\\vec{t}\\begin{pmatrix}\n",
    "\\dfrac{\\text{Longueur}}{2}\\\\\n",
    "\\dfrac{\\text{Hauteur}}{2}\n",
    "\\end{pmatrix}$, la figure suivante résume le changement de coordonnées de l'image numérique au repère:\n",
    "\n",
    "<center>\n",
    "<img src= \"pixels_coordonnees.png\" style = 'width: 800px; height:750' /></center>\n",
    "\n",
    "Nous pouvons alors définir la fonction suivante permettant d'obtenir les coordonnées dans l'espace d'un pixel donné:\n",
    "$(x_{pixel}; y_{pixel}) \\mapsto \\left(x_{pixel}-\\dfrac{\\text{Longueur}}{2}; y_{pixel}-\\dfrac{\\text{Hauteur}}{2}; D\\right)$."
   ]
  },
  {
   "cell_type": "code",
   "execution_count": 2,
   "metadata": {},
   "outputs": [],
   "source": [
    "def direction(x, y) :\n",
    "    return vecteur(x - longueur / 2, y - hauteur / 2, D)"
   ]
  },
  {
   "cell_type": "markdown",
   "metadata": {},
   "source": [
    "### II.2) Une question d'intersection\n",
    "Nous avons à présent à faire à un problème mathématique bien plus classique; étant donné:\n",
    "- Un observateur situé en $O(0;0;0)$.\n",
    "- Un pixel situé en $(x;y)$ sur l'image assimilable au point $P\\left(x-\\dfrac{\\text{Longueur}}{2}; y-\\dfrac{\\text{Hauteur}}{2}; D\\right)$.\n",
    "- Une sphère $\\mathscr{S}$ de centre $\\Omega$ et de rayon $r$.\n",
    "\n",
    "L'intersection entre la droite $(OP)$ et $\\mathscr{S}$ existe-t-elle? Si oui à quelle(s) condition(s)?\n",
    "\n",
    "Afin de déterminer cela, nous utiliserons la définition suivante afin de caractériser les droites dans l'espace :\n",
    "\n",
    "  <div class=\"alert alert-success\">\n",
    "    <a href=\"#\" class=\"alert-link\"> Définition:</a>  \n",
    "\n",
    "<p> Soit $M$ un point de l'espace, $M$ est situé sur la droite $(OP)$ de vecteur directeur $\\overrightarrow{OP}$ si et seulement si $\\overrightarrow{OM}$ est colinéaire à $\\overrightarrow{OP}$.</p>\n",
    "<p> Autrement dit, si et seulement si il existe un réel $t$ tel que: $\\overrightarrow{OM}=t\\overrightarrow{OP}$.</p>\n",
    " </div>\n",
    " \n",
    "Rappellons également la définition de la sphère :\n",
    "\n",
    "  <div class=\"alert alert-success\">\n",
    "    <a href=\"#\" class=\"alert-link\"> Définition:</a>  \n",
    "    <p>On appelle sphère de centre $\\Omega$ et de rayon $r$ l'ensemble des points de l'espace distants de $r$ par rapport à $\\Omega$.</p>\n",
    "    <p> Autrement dit il s'agit de l'ensemble des points $M$ tels que $\\Omega M = r$. </p>\n",
    " </div>\n",
    " \n",
    " On obtient alors la caractérisation suivante de l'intersection recherchée, en considérant le vecteur unitaire : $\\vec{u}=\\dfrac{\\overrightarrow{OP}}{\\parallel \\overrightarrow{OP}\\parallel}$\n",
    " \n",
    "<div class=\"alert alert-danger\">\n",
    "   <a href=\"#\" class=\"alert-link\">Proposition :</a>  \n",
    "    <p>$M\\in (OP)\\cap\\mathscr{S} \\Leftrightarrow \\text{Il existe}~ t\\in\\mathbb{R} ~\\text{tel que:}~  t^2 + bt +c = 0$ avec $b=2\\overrightarrow{\\Omega O}\\cdot\\vec{u}$ et $c=\\Omega O^2 - r^2$.</p>\n",
    "    <p> On peut ainsi considérer trois cas selon le signe de $\\Delta = b^2-4c$: </p>\n",
    "    <p>$\\bullet$ Si $\\Delta<0$, l'équation n'admet pas de solution et l'intersection est vide.</p>\n",
    "    <p> $\\bullet$ Si $\\Delta = 0$, l'équation admet une unique solution, la droite et la sphère admettent un unique point d'intersection, ainsi la droite est tangente à la sphère.</p>\n",
    "    <p> $\\bullet$ Si $\\Delta>0$, l'équation admet deux solutions, il y a donc deux points d'intersection (la droite \"rentre\" dans la sphère et en \"ressort\").</p>\n",
    "</div>\n",
    "\n",
    "**Preuve :** Voir fichier pdf.\n",
    "\n",
    "\n",
    "<center>\n",
    "<img src= \"intersection.png\" style = 'width: 800px; height:750' /></center>\n",
    "\n",
    "Attention même dans le cas où il y a existence de solutions, il faut de plus vérifier ici qu'elles sont bien positives. Une valeur de $t$ négative signifierait que la sphère est située derrière l'observateur, il ne peut donc pas la voir.\n",
    "\n",
    "Ainsi dans le cas où il y a deux racines de signes opposés, nous retiendrons seulement celle qui est positive. De plus si l'on trouve deux racines positives seule celle correspondant au point entrant, donc la plus petite, sera retenue car il s'agit du point de la sphère aperçu par l'observateur.\n",
    "\n",
    "De ce fait dans un but strictement pratique nous modifions légèrement notre raisonnement dans la fonction **intersection** qui suit.  À l'aide des commandes **min** et **max**, on fait en sorte que la fonction renvoie ainsi $+\\infty$ dans les cas où il n'y a pas d'intersection visible. On néglige d'ailleurs ainsi délibérément le cas où l'intersection est confondue avec l'observateur."
   ]
  },
  {
   "cell_type": "code",
   "execution_count": 3,
   "metadata": {},
   "outputs": [],
   "source": [
    "def intersection(depart, u, centre, r):\n",
    "        OC = centre - depart\n",
    "        b = - 2 * scalaire(u, OC)\n",
    "        c = norme(OC)**2 - r**2\n",
    "        delta = b**2 - 4 * c\n",
    "        if delta == 0 and b < 0 :\n",
    "            return - b / 2\n",
    "        elif delta > 0 :\n",
    "            x1 = (- b - racine(delta)) / 2\n",
    "            x2 = (- b + racine(delta)) / 2\n",
    "            if min(x1,x2) <= 0 and max(x1, x2) > 0 :\n",
    "                return max(x1, x2)\n",
    "            elif min(x1, x2) > 0 :\n",
    "                return min(x1, x2)\n",
    "            else :\n",
    "                return np.inf\n",
    "        else:\n",
    "            return np.inf"
   ]
  },
  {
   "cell_type": "markdown",
   "metadata": {},
   "source": [
    "### II.3) Quelques fonctions en python :\n",
    "\n",
    "La fonction intersection vient d'être définie, il est cependant nécessaire pour qu'elle puisse être utilisée de clarifier certains points, en particulier les modules de python que nous allons utiliser, comment définir des points et des vecteurs de l'espace ainsi que les fonctions **scalaire** et **norme** mentionnées précédemment.\n",
    "- Pour définir un vecteur $\\vec{u}\\begin{pmatrix}\n",
    "x\\\\\n",
    "y\\\\\n",
    "z\n",
    "\\end{pmatrix}$, nous utiliserons la classe vecteur importée précédemment de la manière suivante: \n",
    "$u=\\text{vecteur}(x,y,z)$\n",
    "\n",
    " La classe vecteur permet également de récupérer facilement chacune des coordonnées de $\\vec{u}$ puisque la commande $u.x$ renvoie $x$, $u.y$ renvoie $y$ et $u.z$ renvoie $z$.\n",
    "- Les coordonnées d'un point $M$ seront assimilées à celles du vecteur $\\overrightarrow{OM}$.\n",
    "- Les couleurs seront définies à l'aide de triplets $(R,B,V)$ que l'on définira sur python également comme des vecteurs afin de réaliser des opérations avec.\n",
    "- Comme l'étude se déroule en repère orthonormé, nous définirons le produit scalaire de $\\vec{u}\\begin{pmatrix}\n",
    "x\\\\\n",
    "y\\\\\n",
    "z\n",
    "\\end{pmatrix}$ et $\\vec{v}\\begin{pmatrix}\n",
    "x'\\\\\n",
    "y'\\\\\n",
    "z'\n",
    "\\end{pmatrix}$ à l'aide des coordonnées: $\\vec{u}\\cdot\\vec{v}=xx'+yy'+zz'$."
   ]
  },
  {
   "cell_type": "code",
   "execution_count": 4,
   "metadata": {},
   "outputs": [],
   "source": [
    "def scalaire(u, v) :\n",
    "    return u.x * v.x + u.y * v.y + u.z * v.z"
   ]
  },
  {
   "cell_type": "markdown",
   "metadata": {},
   "source": [
    "- Il est alors aisé de définir la norme d'un vecteur $\\vec{u}$ comme étant la racine carrée de $\\vec{u}\\cdot\\vec{u}=\\parallel\\vec{u}\\parallel^2$."
   ]
  },
  {
   "cell_type": "code",
   "execution_count": 5,
   "metadata": {},
   "outputs": [],
   "source": [
    "def norme(u) :\n",
    "    return racine(scalaire(u,u))"
   ]
  },
  {
   "cell_type": "markdown",
   "metadata": {},
   "source": [
    "- Ainsi que nous l'avons vu, pour rendre un vecteur non nul unitaire, il suffit de le diviser par sa norme, ce qui revient à diviser chacune de ses coordonnées comme le fait cette fonction:"
   ]
  },
  {
   "cell_type": "code",
   "execution_count": 6,
   "metadata": {},
   "outputs": [],
   "source": [
    "def unitaire(u) :\n",
    "    return vecteur(u.x / norme(u), u.y / norme(u), u.z / norme(u))"
   ]
  },
  {
   "cell_type": "markdown",
   "metadata": {},
   "source": [
    "## III. Un objet à la fois $\\dots$\n",
    "\n",
    "Puisque la résolution mathématique du problème a été effectuée, nous pouvons à présenter passer à l'implémentation en python.\n",
    "\n",
    "Cela nous fournira un premier résultat que nous nous efforcerons par la suite d'améliorer en cherchant, comme annoncé en **I.**, à prendre en compte une source de lumière de sorte à obtenir une version plus réaliste.\n",
    "\n",
    "### III.1) Intersection et coloration\n",
    "\n",
    "Une fois que les fonctions précédentes ont été définies, il ne reste plus qu'à choisir la taille de l'image et une valeur pour $D$, puis à créer l'image correspondante."
   ]
  },
  {
   "cell_type": "code",
   "execution_count": 7,
   "metadata": {},
   "outputs": [],
   "source": [
    "# caracteristiques de l image\n",
    "longueur = 500\n",
    "hauteur = 500\n",
    "D = 500\n",
    "\n",
    "image = np.zeros((hauteur, longueur, 3), dtype = np.uint8)"
   ]
  },
  {
   "cell_type": "markdown",
   "metadata": {},
   "source": [
    "Ce à quoi l'on rajoute les caractéristiques de la sphère que l'on veut représenter.\n",
    "Il s'agira par exemple ici de la sphère de centre $(2;-1;10)$ et de rayon 1 à laquelle on attribuera la couleur $(56,84,216)$:"
   ]
  },
  {
   "cell_type": "code",
   "execution_count": 8,
   "metadata": {},
   "outputs": [],
   "source": [
    "# origine du repere\n",
    "Origine = vecteur(0,0,0)\n",
    "# caracteristiques de la sphere representee\n",
    "centre = vecteur(0, 0, 10)\n",
    "rayon = 2\n",
    "couleur_sphere = vecteur(58, 84, 216)"
   ]
  },
  {
   "cell_type": "markdown",
   "metadata": {},
   "source": [
    "On définit alors la fonction **coloration** en entrée la variable depart correspondant au point d'où est émis le rayon (ici l'origine) et la direction qu'il suit (donc notre vecteur $\\vec{u}$) et lui attribuant une couleur en fonction de si le rayon émis intersecte la sphère choisie ou pas."
   ]
  },
  {
   "cell_type": "code",
   "execution_count": 9,
   "metadata": {},
   "outputs": [
    {
     "data": {
      "text/plain": [
       "<matplotlib.image.AxesImage at 0x1baa2da0190>"
      ]
     },
     "execution_count": 9,
     "metadata": {},
     "output_type": "execute_result"
    },
    {
     "data": {
      "image/png": "[encoded data removed]",
      "text/plain": [
       "<Figure size 720x720 with 1 Axes>"
      ]
     },
     "metadata": {
      "needs_background": "light"
     },
     "output_type": "display_data"
    }
   ],
   "source": [
    "def coloration(depart, direction) :\n",
    "    if intersection(depart, direction, centre, rayon) < np.inf :\n",
    "        couleur = couleur_sphere\n",
    "    else :\n",
    "        couleur = vecteur(50,50,50)\n",
    "    return couleur\n",
    "\n",
    "for x in range(longueur):\n",
    "        for y in range(hauteur) :\n",
    "            u = unitaire(direction(x, y))\n",
    "            couleur = coloration(Origine, u)\n",
    "            image[y,x] = couleur.rgb()\n",
    "imsave(\"cercle.png\", image)\n",
    "plt.rcParams[\"figure.figsize\"] = (10,10)    \n",
    "plt.axis('off')\n",
    "plt.imshow(image)"
   ]
  },
  {
   "cell_type": "markdown",
   "metadata": {},
   "source": [
    "\n",
    "La commande **couleur.rgb()** permet de convertir le vecteur couleur au format nécessaire. Elle est définie dans vecteur.py et l'explication de son fonctionnement est ici peu pertinent. On obtient alors l'image ci-dessus, pour l'instant peu réaliste mais qui constitue tout de même notre tout premier pas en ce sens.\n",
    "\n",
    "\n",
    "La sphère est ainsi retranscrite sur notre image par un cercle bleu qu'il va nous falloir nuancer en fonction de la position de la source de lumière, ce qui sera l'objet de la partie suivante."
   ]
  },
  {
   "cell_type": "markdown",
   "metadata": {},
   "source": [
    "### II.2) Que la lumière soit\n",
    "\n",
    "Partons ici d'une remarque simple : un point situé sur une surface sera d'autant plus « éclairé » que la direction du vecteur le reliant à la source lumineuse est proche de celle de la normale. \n",
    "\n",
    "Le fait que la luminosité soit plus élevée aux alentours de midi en est un exemple connu et concret, en effet le soleil étant notre source de lumière principale cela signifie tout simplement qu'il s'agit du moment de la journée où ses rayons nous parviennent perpendiculairement.\n",
    "\n",
    "\n",
    "Il devient alors nécessaire d'introduire les notations suivantes: \n",
    "\n",
    "- $M$: point en lequel on cherche à déterminer la couleur suivant la position d'une source de lumière $L$.\n",
    "- $\\vec{n}$: vecteur normal unitaire (dirigé côté source) en $M$. \n",
    "-  $\\vec{\\ell}=\\dfrac{\\overrightarrow{ML}}{\\parallel\\overrightarrow{ML}\\parallel}$: vecteur unitaire de $M$ vers $L$.\n",
    "-  $\\theta=(\\vec{n},\\vec{\\ell})$: angle entre les deux vecteurs, plus il est grand et moins ils sont « superposés ». \n",
    "\n",
    "<center>\n",
    "<img src= \"source_lumiere.png\" , width= \"800\" /></center>\n",
    "\n",
    "D'après la remarque précédente, déterminer la coloration reviendrait à déterminer l'angle $\\theta$. Il s'agit d'un problème qu'il est tout à fait possible de résoudre, cela dit il existe une manière moins fastidieuse de procéder. En effet, considérons le produit scalaire des vecteurs $\\vec{n}$ et $\\vec{\\ell}$:\n",
    "\n",
    "$$\\vec{n}\\cdot\\vec{\\ell}=\\parallel\\vec{n}\\parallel\\times\\parallel\\vec{\\ell}\\parallel\\times\\cos(\\vec{n},\\vec{\\ell})=\\cos(\\theta)$$\n",
    "\n",
    "$\\vec{n}\\cdot\\vec{\\ell}$ dépend donc ici uniquement de $\\theta$, de sorte que plus la direction et le sens de $\\vec{\\ell}$ est proche de $\\vec{n}$ et plus $\\vec{n}\\cdot\\vec{\\ell}$ est proche de 1 et réciproquement. \n",
    "\n",
    "Inversement plus $\\theta$ s'approche d'un angle droit et plus \n",
    "$\\vec{n}\\cdot\\vec{\\ell}$ est proche de 0, ce que l'on peut par ailleurs visualiser plus facilement en deux dimensions avec le schéma suivant:\n",
    "\n",
    "<center>\n",
    "<img src= \"luminosite_produit_scalaire.png\" style = 'width: 1200px' /></center>\n",
    "\n",
    "Comme on peut le voir, $\\vec{n}\\cdot\\vec{\\ell}$ varie entre 0 et 1, c'est donc le candidat idéal pour faire office de « coefficient chromatique » en définissant: $$couleur_{finale} = (\\vec{n}\\cdot\\vec{\\ell}) \\times couleur_{objet}$$.\n",
    "Ainsi lorsque $\\vec{\\ell}=\\vec{n}$, on retranscrit la totalité de la couleur de l'objet mais plus l'angle entre les deux vecteurs est grand et plus la proportion retranscrite est faible, ce résultat est parfois connu sous le nom de loi en cosinus de Lambert.\n",
    "Ci-après un aperçu permettant de visualiser ce principe en dimension trois sur une surface plane:\n",
    "<center>\n",
    "<img src= \"luminosite_3d.png\" style = 'width: 1200px' /></center>\n",
    "\n",
    "\n",
    "L'objectif se précise mais le problème n'est pas encore tout à fait résolu: il est clair à présent qu'il nous faut pouvoir calculer $\\vec{n}\\cdot\\vec{\\ell}$ sans passer par $\\theta$, ce qui implique de connaître les coordonnées des deux vecteurs unitaires dans l'espace. \n",
    "C'est cependant chose aisée puisque $\\vec{\\ell}=\\dfrac{\\overrightarrow{ML}}{\\parallel\\overrightarrow{ML}\\parallel}$ et dans le cas de la sphère $\\vec{n}=\\dfrac{\\overrightarrow{\\Omega M}}{\\parallel\\overrightarrow{\\Omega M}\\parallel}$, de plus les coordonnées des points $\\Omega$ et $L$ sont connues puisque c'est nous qui choisissons où les placer. \n",
    "\n",
    "Par ailleurs nous obtenons les coordonnées de $M$ dans le cas de la sphère grâce au raisonnement présenté en **II.2** et à la fonction **intersection**. \n",
    "\n",
    "Remarquons également que $\\vec{n}\\cdot\\vec{\\ell}$ reste positif tant que $\\vec{n}$ est orienté \"côte source\", dans le cas contraire nous pouvons considérer que le point n'est pas éclairé, on utilisera donc plutôt **max** $(\\vec{n}\\cdot\\vec{\\ell},0)$ dans le programme pour s'épargner des valeurs négatives pour les couleurs.\n",
    "\n",
    "Il ne reste alors plus qu'à placer la source de lumière et à modifier la fonction **coloration** suivant ce qui a été dit précédemment, ce qui permet de produire l'image suivante déjà beaucoup plus convaincante :"
   ]
  },
  {
   "cell_type": "code",
   "execution_count": 10,
   "metadata": {},
   "outputs": [
    {
     "data": {
      "text/plain": [
       "<matplotlib.image.AxesImage at 0x1baa0b92d00>"
      ]
     },
     "execution_count": 10,
     "metadata": {},
     "output_type": "execute_result"
    },
    {
     "data": {
      "image/png": "[encoded data removed]",
      "text/plain": [
       "<Figure size 720x720 with 1 Axes>"
      ]
     },
     "metadata": {
      "needs_background": "light"
     },
     "output_type": "display_data"
    }
   ],
   "source": [
    "L =  vecteur(-20, -30, -20) # position de la source de lumiere\n",
    "\n",
    "def coloration(depart, direction) :\n",
    "    if intersection(depart, direction, centre, rayon) < np.inf :\n",
    "        OM = intersection(depart, direction, centre, rayon) * u\n",
    "        ML = L - OM\n",
    "        l = unitaire(ML)\n",
    "        n = unitaire(OM - centre)\n",
    "        couleur = couleur_sphere * max(scalaire(n, l),0)\n",
    "    else :\n",
    "        couleur = vecteur(50,50,50)\n",
    "    return couleur\n",
    "\n",
    "for x in range(longueur):\n",
    "    for y in range(hauteur) :\n",
    "        u = unitaire(direction(x, y))\n",
    "        couleur = coloration(Origine, u)\n",
    "        image[y,x] = couleur.rgb()\n",
    "imsave(\"cercle.png\", image)    \n",
    "plt.rcParams[\"figure.figsize\"] = (10,10)\n",
    "plt.axis('off')\n",
    "plt.imshow(image)"
   ]
  },
  {
   "cell_type": "markdown",
   "metadata": {},
   "source": [
    "### III.3) Et la lumière fut\n",
    "\n",
    "\n",
    "<center>\n",
    "<img src= \"fig.jpg\" , width = \"500\" /></center>\n",
    "\n",
    "Comme on peut l'observer sur cette image certaines zones d'un objet présentent parfois un aspect brillant du fait que la lumière qui s'y reflète depuis la source atteint directement l'œil.\n",
    "\n",
    "Afin de retranscrire cet effet il est nécessaire d'ajouter à la couleur une valeur supplémentaire appelée **composante spéculaire** que nous définirons selon le modèle d'ombrage de Phong explicité ci-après.\n",
    "\n",
    "L'idée est ici, de manière analogue à la partie précédente, de mesurer l'écart angulaire entre le rayon lumineux issu de l'utilisateur réfléchi sur la sphère et le vecteur $\\vec{\\ell}$. Plus les deux sont proches et plus la lumière de la source a tendance a être redirigée vers l'observateur.\n",
    "\n",
    "Il nous faut pour cela déterminer:\n",
    "- $\\vec{u}=\\dfrac{\\overrightarrow{OM}}{\\parallel\\overrightarrow{OM}\\parallel}$ vecteur unitaire issu de l'origine vers $M$ où $M$ est le point de l'objet considéré.\n",
    "- $\\vec{r}$: vecteur unitaire de direction celle que suivrait la lumière si la surface était parfaitement réfléchissante. Ainsi l'angle formé avec la normale par le vecteur représentant le rayon incident est le même que celui formé entre la normale et le rayon réfléchi.\n",
    "- L'angle $\\beta=(\\vec{r},\\vec{n})=(\\vec{n},-\\vec{u})$ mentionné au point précédent.\n",
    "\n",
    "\n",
    "<center>\n",
    "<img src= \"reflexion_speculaire.png\" , width = \"800\", height=\"750\" /></center>\n",
    "\n",
    "En reprenant les notations précédentes et le raisonnement présenté en **II.2**, on obtient:\n",
    "$$composante~{speculaire} = couleur_{source} \\times (\\vec{r}\\cdot \\vec{\\ell})$$\n",
    "\n",
    "Le modèle de Phong incorpore de plus un paramètre $\\alpha$ dépendant de l'objet considéré, plus sa valeur est grande et moins la zone brillante sera étendue:\n",
    "$$composante~{speculaire} = couleur_{source} \\times (\\vec{r}\\cdot \\vec{\\ell})^\\alpha$$\n",
    "\n",
    "Pour mieux comprendre le rôle de $\\alpha$ il est intéressant d'examiner les courbes de représentatives des fonctions puissances sur l'intervalle $\\left[0;1\\right]$ représentées ci-après.\n",
    "\n",
    "\n",
    "<center>\n",
    "<img src= \"puissances.png\" , width = \"500\" /></center>\n",
    "\n",
    "\n",
    "En effet, nous pouvons ainsi constater que plus la puissance est grande et plus les valeurs des images des antécédents proches de 0 sont négligeables. Ce qui signifie dans le cas de notre modèle que plus la valeur de $\\alpha$ choisie pour l'objet représenté est grande est plus la zone blanche autour du point reflétant directement le rayon jusqu'à l'observateur sera restreinte.\n",
    "<div style=\"display:flex\">\n",
    "     <div style=\"flex:1;padding-right:10px;\">\n",
    "          <img src=\"alpha10.png\" width=\"300\"/>\n",
    "         $\\alpha = 10$\n",
    "     </div>\n",
    "     <div style=\"flex:1;padding-left:10px;\">\n",
    "          <img src=\"alpha30.png\" width=\"300\"/>\n",
    "         $\\alpha = 30$\n",
    "     </div>\n",
    "     <div style=\"flex:1;padding-left:10px;\">\n",
    "          <img src=\"alpha100.png\" width=\"300\"/>\n",
    "         $\\alpha = 100$\n",
    "     </div>\n",
    "</div>\n",
    "\n",
    "<div class=\"alert alert-danger\">\n",
    "   <a href=\"#\" class=\"alert-link\">Proposition (preuve dans le pdf) :</a>  \n",
    "$$\\vec{r}=\\vec{u}-2(\\vec{u}\\cdot\\vec{n})\\vec{n}$$ </div>\n",
    "\n",
    "Après avoir rajouté les variable alpha et couleur lumiere, définissons alors la fonction **speculaire** qui calcule, à l'aide de la formule précédente, la composante spéculaire."
   ]
  },
  {
   "cell_type": "code",
   "execution_count": 11,
   "metadata": {
    "scrolled": true
   },
   "outputs": [
    {
     "data": {
      "text/plain": [
       "<matplotlib.image.AxesImage at 0x1baa0b91b50>"
      ]
     },
     "execution_count": 11,
     "metadata": {},
     "output_type": "execute_result"
    },
    {
     "data": {
      "image/png": "[encoded data removed]",
      "text/plain": [
       "<Figure size 720x720 with 1 Axes>"
      ]
     },
     "metadata": {
      "needs_background": "light"
     },
     "output_type": "display_data"
    }
   ],
   "source": [
    "# caracteristiques de l image\n",
    "longueur = 500\n",
    "hauteur = 500\n",
    "D = 600\n",
    "\n",
    "image = np.zeros((hauteur, longueur, 3), dtype = np.uint8)\n",
    "image.fill(50) # remplit prealablement avec la couleur (50,50,50) pour davantage de visibilite\n",
    "\n",
    "# caracteristiques de la sphere representee\n",
    "rayon = 2\n",
    "centre = vecteur(0, 0, 10)\n",
    "couleur_sphere = vecteur(52, 84, 216)\n",
    "alpha = 50\n",
    "\n",
    "# source\n",
    "L = vecteur(-20, -30, -20)\n",
    "couleur_lumiere = vecteur(255,255,255) # lumiere blanche\n",
    "\n",
    "def speculaire(u,n,l, alpha):\n",
    "    if scalaire(l,n) > 0 :\n",
    "        r = unitaire(u - 2 * scalaire(n, u) * n)\n",
    "        speculaire = couleur_lumiere * max(scalaire(l, r),0)**alpha\n",
    "    else :\n",
    "        speculaire = vecteur(0,0,0)\n",
    "    return speculaire\n",
    "\n",
    "def coloration(depart, direction) :\n",
    "    if intersection(depart, direction, centre, rayon) < np.inf :\n",
    "        OM = intersection(depart, direction, centre, rayon) * u\n",
    "        ML = L - OM\n",
    "        l = unitaire(ML)\n",
    "        n = unitaire(OM - centre)\n",
    "        couleur = couleur_sphere * abs(scalaire(n, l))\n",
    "        spec = speculaire(u,n,l, alpha)\n",
    "        couleur += spec\n",
    "    else :\n",
    "        couleur = vecteur(50,50,50)\n",
    "    return couleur\n",
    "\n",
    "for x in range(longueur):\n",
    "    for y in range(hauteur) :\n",
    "        u = unitaire(direction(x, y))\n",
    "        couleur = coloration(Origine, u)\n",
    "        image[y, x] = couleur.rgb()\n",
    "\n",
    "imsave(\"speculaire.png\", image)\n",
    "plt.rcParams[\"figure.figsize\"] = (10,10)\n",
    "plt.axis('off')\n",
    "plt.imshow(image)"
   ]
  },
  {
   "cell_type": "markdown",
   "metadata": {},
   "source": [
    "## IV) Et de deux!\n",
    "\n",
    "### IV.1) Ombres\n",
    "\n",
    "Nous allons à présent chercher à représenter plusieurs sphères, ce qui amène des contraintes supplémentaires, à savoir :\n",
    "- Pour un pixel donné, identifier la première sphère atteinte par le rayon correspondant, qui se situera donc au premier plan et déterminera la couleur attribuée au pixel.\n",
    "- L'endroit atteint est-il éclairé par la source lumineuse? Autrement dit y-a-t il un obstacle entre le point atteint sur la sphère et la source lumineuse?\n",
    "\n",
    "Avant de répondre à ces questions, définissons ensemble l'ensemble des objets présents que nous appellerons la scène. Dans notre cas elle est constituée uniquement de sphères définies par la syntaxe suivante : $\\text{sphere(centre, rayon, couleur, alpha)}$ où la couleur et le centre sont des vecteurs et le rayon zt alpha sont des scalaires."
   ]
  },
  {
   "cell_type": "code",
   "execution_count": 12,
   "metadata": {},
   "outputs": [],
   "source": [
    "from sphere import*\n",
    "\n",
    "# le sol est ici une sphere de grand rayon\n",
    "sol = sphere(vecteur(0, 10**7 + 5 , 0 ), 10**7, vecteur(154, 132, 120), 10**8)   \n",
    "\n",
    "sphere_1 = sphere(vecteur(1, 4.5, 15 ), 0.5, vecteur(52, 84, 216), 20)   # boule bleue\n",
    "sphere_2 = sphere(vecteur(4, 4, 20 ), 1, vecteur(237, 33, 58), 15 )   # boule rouge\n",
    "sphere_3 = sphere(vecteur(-4, 3, 25 ), 2, vecteur(60, 165, 92), 10 )     # boule verte\n",
    "\n",
    "scene = [sol, sphere_1, sphere_2, sphere_3]\n",
    "\n",
    "luminosite_ambiante = vecteur(20,20,20) # luminosite ambiante"
   ]
  },
  {
   "cell_type": "markdown",
   "metadata": {},
   "source": [
    "Une fois la scène définie, il nous faut remédier aux deux points mentionnés précédemment :\n",
    "- Soit $P$ un pixel, la fonction intersection nous permet de savoir si la droite $(OP)$ intersecte chacun des objets de la scène, il y en a donc potentiellement plusieurs. Dans notre représentation celui qui nous intéresse est celui qui se situe au premier plan par rapport aux autres, autrement dit celui réalisant la distance minimale par rapport à l'origine.\n",
    "- Une fois cela fait, soit $M$ le point de la sphère ainsi atteinte, il nous faut à présent déterminer si la zone où se situe $M$ est dans l'ombre d'un autre objet de la scène ou pas. Pour cela nous allons untiliser à nouveau la fonction $\\text{intersection}$ en prenant $M$ pour point de départ et $\\overrightarrow{ML}$ pour direction, où $L$ est la source lumineuse, si l'une des distances ainsi obtenue est inférieure à $ML$ on peut en conclure que le point atteint est dans l'ombre d'un autre objet de la scène.\n",
    "- Ainsi, si pour poure toute sphère différente de celle atteinte : $\\text{intersection}(M, \\overrightarrow{\\ell}, \\text{centre}, \\text{rayon}) > ML$, alors on effectue la coloration précédente.\n",
    "    Sinon on lui attribue une couleur qui doit correspondre à une ombre, pour cela on peut procéder de différente manière, ici nous utiliserons la couleur obtenue par la coloration multipliée par un coefficient de $0,35$ pour l'assombrir. \n",
    "\n",
    "Modifions ainsi la fonction $\\text{coloration}$ :"
   ]
  },
  {
   "cell_type": "code",
   "execution_count": null,
   "metadata": {},
   "outputs": [],
   "source": [
    "def coloration(depart, direction) :\n",
    "    intersections = [intersection(depart, u, objet.centre, objet.rayon) for objet in scene]\n",
    "    d = min(intersections) \n",
    "    couleur = luminosite_ambiante\n",
    "    if d < np.inf :\n",
    "        # rang dans la liste des distances realisant le min\n",
    "        k = intersections.index(d)\n",
    "        # objet de la scene correspondant a la distance minimale \n",
    "        objet = scene[k]\n",
    "        M = d * direction\n",
    "        ML = L - M\n",
    "        l = unitaire(ML)\n",
    "        n = unitaire(M - objet.centre)\n",
    "        couleur +=  objet.couleur * max(scalaire(n, l),0)  \n",
    "        # on verifie s'il y a un objet cachant la source lumineuse\n",
    "        if min([intersection(M, l, obj.centre, obj.rayon) for obj in scene if obj != objet]) < norme(ML) :\n",
    "            couleur *=.35\n",
    "        else :\n",
    "            spec = speculaire(direction, n, l, objet.alpha)\n",
    "            couleur += spec \n",
    "    return couleur\n",
    "\n",
    "for x in range(longueur):\n",
    "    for y in range(hauteur) :\n",
    "        u = unitaire(direction(x, y))\n",
    "        couleur = coloration(Origine, u)\n",
    "        image[y, x] = couleur.rgb()\n",
    "\n",
    "imsave(\"ombre.png\", image)\n",
    "plt.rcParams[\"figure.figsize\"] = (10,10)\n",
    "plt.axis('off')\n",
    "plt.imshow(image)"
   ]
  },
  {
   "cell_type": "markdown",
   "metadata": {},
   "source": [
    "### IV.2) Reflets"
   ]
  },
  {
   "cell_type": "markdown",
   "metadata": {},
   "source": [
    "Pour faire apparaître un reflet sur un objet de la scène, il suffit de :\n",
    "\n",
    "- Déterminer le point $M$ de l'objet atteint.\n",
    "- Utiliser à nouveau la fonction *intersection* en prenent cette fois $M$ comme point de départ et comme direction celle du vecteur $\\vec{r}$.\n",
    "- Récupérer la couleur du nouvel objet ainsi atteint.\n",
    "- Calculer la moyenne des couleurs, pondérée par un coefficient de réflexion choisi (qui dépendrait physiquement de la matière de la surface considérée et de sa rugosité).\n",
    "\n",
    "Pour cela nous allons à nouveau modifier la fonction $\\text{coloration}$ : "
   ]
  },
  {
   "cell_type": "code",
   "execution_count": null,
   "metadata": {},
   "outputs": [],
   "source": [
    "# le sol est ici une sphere de grand rayon\n",
    "sol = sphere(vecteur(0, 10**8 + 5 , 0 ), 10**8, vecteur(154, 132, 120), 10**8, 0)\n",
    "\n",
    "sphere_1 = sphere(vecteur(1, 4.5, 15 ), 0.5, vecteur(52, 84, 216), 20, .2)    # boule bleue\n",
    "sphere_2 = sphere(vecteur(4, 4, 20 ), 1, vecteur(237, 33, 58), 15,  .25)    # boule rouge\n",
    "sphere_3 = sphere(vecteur(-4, 3, 25 ), 2, vecteur(60, 165, 92),10, 0.5)     # boule verte\n",
    "\n",
    "scene = [sol, sphere_1, sphere_2, sphere_3]\n",
    "\n",
    "# source\n",
    "L = vecteur(-20, -30, -20)\n",
    "couleur_lumiere = vecteur(255,255,255) # lumiere blanche\n",
    "luminosite_ambiante = vecteur(40,40,40) # luminosite ambiante\n",
    "\n",
    "def coloration(depart, direction, objets) :\n",
    "    intersections = [intersection(depart, direction, objet.centre, objet.rayon) for objet in objets]\n",
    "    d = min(intersections)\n",
    "    couleur = luminosite_ambiante # on prend la luminosite ambiante comme \"couleur minimale\" que l'on augmentera au fur et a mesure\n",
    "    if d < np.inf :\n",
    "        k = intersections.index(d)\n",
    "        objet = objets[k]\n",
    "        objets.remove(objet) # on retire l'objet atteint\n",
    "        M = d * direction\n",
    "        n = unitaire(M - objet.centre)\n",
    "        ML = L - M\n",
    "        l = unitaire(ML)\n",
    "        # on verifie s'il y a un objet cachant la source lumineuse\n",
    "        if min([intersection(M, l, obj.centre, obj.rayon) for obj in objets]) < norme(ML) :\n",
    "            couleur = (couleur + objet.couleur)*.35 # dans ce cas on colorie le pixel avec 35% de la couleur\n",
    "        else :\n",
    "            spec = speculaire(direction, n, l, objet.alpha)\n",
    "            couleur += objet.couleur* max(scalaire(n, l),0) + spec\n",
    "            r = u - 2*scalaire(u,n)*n #on determine le rayon reflechi en M\n",
    "            reflet = coloration(M, r, list_obj) \n",
    "            # on suit le rayon reflechi jusqu'a l'objet suivant et on recupere \n",
    "            # sa couleur ponderee par le coefficient de reflexion du premier objet atteint\n",
    "            couleur = (1 - objet.reflexion)* couleur + objet.reflexion* reflet\n",
    "            # on obtient le reflet en calculant la moyenne ponderee entre la couleur de l'objet et celle obtenue par reflexion\n",
    "    return couleur\n",
    "\n",
    "for x in range(longueur):\n",
    "    for y in range(hauteur) :\n",
    "        list_obj = scene.copy() # on realise une copie de la liste contenant les objets de la scene\n",
    "        u = unitaire(direction(x, y))\n",
    "        couleur = coloration(Origine, u, list_obj)\n",
    "        image[y,x] = couleur.rgb()\n",
    "\n",
    "imsave(\"reflets.png\", image)\n",
    "plt.rcParams[\"figure.figsize\"] = (10,10)\n",
    "plt.axis('off')\n",
    "plt.imshow(image)"
   ]
  }
 ],
 "metadata": {
  "kernelspec": {
   "display_name": "Python 3 (ipykernel)",
   "language": "python",
   "name": "python3"
  },
  "language_info": {
   "codemirror_mode": {
    "name": "ipython",
    "version": 3
   },
   "file_extension": ".py",
   "mimetype": "text/x-python",
   "name": "python",
   "nbconvert_exporter": "python",
   "pygments_lexer": "ipython3",
   "version": "3.9.7"
  }
 },
 "nbformat": 4,
 "nbformat_minor": 2
}
